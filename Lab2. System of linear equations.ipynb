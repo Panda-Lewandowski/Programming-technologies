{
 "cells": [
  {
   "cell_type": "code",
   "execution_count": 11,
   "metadata": {},
   "outputs": [],
   "source": [
    "def check_kronecker(M: Matrix, vector):  \n",
    "    rg1 = M.rank()\n",
    "    rg2 = M.augment(vector).rank()\n",
    "    if rg1 != rg2:\n",
    "        print(\"Система несовместна!\")\n",
    "        return 0\n",
    "    elif rg1 == len(M.columns()):\n",
    "        print(\"Система имеет единственное решение!\")\n",
    "        return 1\n",
    "    else:\n",
    "        print(\"Система имеет бесконечное множество решений!\")\n",
    "        return 2"
   ]
  },
  {
   "cell_type": "code",
   "execution_count": 12,
   "metadata": {},
   "outputs": [],
   "source": [
    "def solve(M, v):\n",
    "    result = check_kronecker(M, v)\n",
    "    if result == 0:\n",
    "        print(\"Решений нет\")\n",
    "        return -1\n",
    "    elif result == 1:\n",
    "        print(\"Решение:\")\n",
    "        return M.solve_right(v)\n",
    "    elif result == 2:\n",
    "        print(\"Базис пространства решений:\")\n",
    "        return M.right_kernel()"
   ]
  },
  {
   "cell_type": "code",
   "execution_count": 13,
   "metadata": {},
   "outputs": [],
   "source": [
    "M = Matrix(GF(2), [[1, 1, 0, 1, 1, 0], \n",
    "                   [1, 1, 0, 0, 0, 0],\n",
    "                   [1, 1, 1, 1, 1, 1],\n",
    "                   [0, 1, 0, 1, 0, 1],\n",
    "                   [1, 1, 1, 1, 0, 1],\n",
    "                   [0, 1, 0, 1, 0, 0]])"
   ]
  },
  {
   "cell_type": "code",
   "execution_count": 4,
   "metadata": {},
   "outputs": [],
   "source": [
    "v = vector(GF(2), [1, 0, 1, 0, 1, 0])"
   ]
  },
  {
   "cell_type": "code",
   "execution_count": 14,
   "metadata": {},
   "outputs": [
    {
     "name": "stdout",
     "output_type": "stream",
     "text": [
      "Система имеет единственное решение!\n",
      "Решение:\n",
      "(1, 1, 0, 1, 0, 0)\n"
     ]
    }
   ],
   "source": [
    "solve(M, v)"
   ]
  },
  {
   "cell_type": "code",
   "execution_count": 16,
   "metadata": {},
   "outputs": [],
   "source": [
    "M = Matrix(GF(2), [[1, 0, 1, 1, 0, 0, 0], \n",
    "                   [0, 0, 1, 0, 1, 0, 1],\n",
    "                   [0, 1, 1, 1, 1, 0, 1],\n",
    "                   [0, 0, 1, 0, 1, 1, 0],\n",
    "                   [0, 1, 1, 1, 1, 1, 1]])"
   ]
  },
  {
   "cell_type": "code",
   "execution_count": 17,
   "metadata": {},
   "outputs": [],
   "source": [
    "v = vector(GF(2), [0, 0, 0, 1, 1])"
   ]
  },
  {
   "cell_type": "code",
   "execution_count": 18,
   "metadata": {},
   "outputs": [
    {
     "name": "stdout",
     "output_type": "stream",
     "text": [
      "Система имеет бесконечное множество решений!\n",
      "Базис пространства решений:\n"
     ]
    },
    {
     "data": {
      "text/plain": [
       "Vector space of degree 7 and dimension 2 over Finite Field of size 2\n",
       "Basis matrix:\n",
       "[1 0 1 0 1 0 0]\n",
       "[0 1 1 1 1 0 0]"
      ]
     },
     "execution_count": 18,
     "metadata": {},
     "output_type": "execute_result"
    }
   ],
   "source": [
    "solve(M, v)"
   ]
  },
  {
   "cell_type": "code",
   "execution_count": null,
   "metadata": {},
   "outputs": [],
   "source": []
  }
 ],
 "metadata": {
  "kernelspec": {
   "display_name": "SageMath 9.0",
   "language": "sage",
   "name": "sagemath"
  },
  "language_info": {
   "codemirror_mode": {
    "name": "ipython",
    "version": 3
   },
   "file_extension": ".py",
   "mimetype": "text/x-python",
   "name": "python",
   "nbconvert_exporter": "python",
   "pygments_lexer": "ipython3",
   "version": "3.7.3"
  }
 },
 "nbformat": 4,
 "nbformat_minor": 2
}
